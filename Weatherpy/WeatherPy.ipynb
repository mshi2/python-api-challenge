{
 "cells": [
  {
   "cell_type": "markdown",
   "metadata": {},
   "source": [
    "# WeatherPy\n",
    "----\n",
    "\n",
    "#### Note\n",
    "* Instructions have been included for each segment. You do not have to follow them exactly, but they are included to help you think through the steps."
   ]
  },
  {
   "cell_type": "code",
   "execution_count": 2,
   "metadata": {
    "scrolled": true
   },
   "outputs": [],
   "source": [
    "# Dependencies and Setup\n",
    "import matplotlib.pyplot as plt\n",
    "import pandas as pd\n",
    "import numpy as np\n",
    "import requests\n",
    "import time\n",
    "from scipy.stats import linregress\n",
    "\n",
    "# Import API key\n",
    "from api_keys import weather_api_key\n",
    "\n",
    "# Incorporated citipy to determine city based on latitude and longitude\n",
    "from citipy import citipy\n",
    "\n",
    "# Output File (CSV)\n",
    "output_data_file = \"output_data/cities.csv\"\n",
    "\n",
    "# Range of latitudes and longitudes\n",
    "lat_range = (-90, 90)\n",
    "lng_range = (-180, 180)"
   ]
  },
  {
   "cell_type": "markdown",
   "metadata": {},
   "source": [
    "## Generate Cities List"
   ]
  },
  {
   "cell_type": "code",
   "execution_count": 4,
   "metadata": {},
   "outputs": [
    {
     "name": "stdout",
     "output_type": "stream",
     "text": [
      "632\n"
     ]
    }
   ],
   "source": [
    "# List for holding lat_lngs and cities\n",
    "lat_lngs = []\n",
    "cities = []\n",
    "\n",
    "# Create a set of random lat and lng combinations\n",
    "lats = np.random.uniform(lat_range[0], lat_range[1], size=1500)\n",
    "lngs = np.random.uniform(lng_range[0], lng_range[1], size=1500)\n",
    "lat_lngs = zip(lats, lngs)\n",
    "\n",
    "# Identify nearest city for each lat, lng combination\n",
    "for lat_lng in lat_lngs:\n",
    "    city = citipy.nearest_city(lat_lng[0], lat_lng[1]).city_name\n",
    "    \n",
    "    # If the city is unique, then add it to a our cities list\n",
    "    if city not in cities:\n",
    "        cities.append(city)\n",
    "\n",
    "# Print the city count to confirm sufficient count\n",
    "print(len(cities))"
   ]
  },
  {
   "cell_type": "markdown",
   "metadata": {},
   "source": [
    "### Perform API Calls\n",
    "* Perform a weather check on each city using a series of successive API calls.\n",
    "* Include a print log of each city as it'sbeing processed (with the city number and city name).\n"
   ]
  },
  {
   "cell_type": "code",
   "execution_count": 9,
   "metadata": {
    "scrolled": true
   },
   "outputs": [
    {
     "name": "stdout",
     "output_type": "stream",
     "text": [
      "Fetching Record 1 | petropavlovsk-kamchatskiy\n",
      "Fetching Record 2 | new norfolk\n",
      "Fetching Record 3 | yellowknife\n",
      "Fetching Record 4 | darnah\n",
      "Fetching Record 5 | bluff\n",
      "Fetching Record 6 | cabo san lucas\n",
      "city not found\n",
      "Fetching Record 7 | lorengau\n",
      "city not found\n",
      "Fetching Record 8 | puerto ayora\n",
      "Fetching Record 9 | qaanaaq\n",
      "Fetching Record 10 | provideniya\n",
      "Fetching Record 11 | clyde river\n",
      "city not found\n",
      "Fetching Record 12 | ushuaia\n",
      "Fetching Record 13 | hobart\n",
      "Fetching Record 14 | isangel\n",
      "Fetching Record 15 | sao filipe\n",
      "Fetching Record 16 | rikitea\n",
      "Fetching Record 17 | bokoro\n",
      "Fetching Record 18 | ust-omchug\n",
      "Fetching Record 19 | thunder bay\n",
      "Fetching Record 20 | narsaq\n",
      "Fetching Record 21 | atuona\n",
      "Fetching Record 22 | hay river\n",
      "Fetching Record 23 | mataura\n",
      "Fetching Record 24 | kavaratti\n",
      "Fetching Record 25 | barcelona\n",
      "Fetching Record 26 | robertsport\n",
      "Fetching Record 27 | borkenes\n",
      "Fetching Record 28 | tupiza\n",
      "Fetching Record 29 | daokou\n",
      "city not found\n",
      "Fetching Record 30 | kirakira\n",
      "Fetching Record 31 | chumikan\n",
      "city not found\n",
      "Fetching Record 32 | jamestown\n",
      "Fetching Record 33 | upernavik\n",
      "city not found\n",
      "Fetching Record 34 | severo-kurilsk\n",
      "Fetching Record 35 | tautira\n",
      "Fetching Record 36 | butaritari\n",
      "Fetching Record 37 | taguatinga\n",
      "Fetching Record 38 | norman wells\n",
      "Fetching Record 39 | lubao\n",
      "Fetching Record 40 | mezen\n",
      "Fetching Record 41 | santa isabel do rio negro\n",
      "Fetching Record 42 | coquimbo\n",
      "Fetching Record 43 | dikson\n",
      "Fetching Record 44 | olden\n",
      "Fetching Record 45 | tuktoyaktuk\n",
      "Fetching Record 46 | klaksvik\n",
      "Fetching Record 47 | prince george\n",
      "Fetching Record 48 | northam\n",
      "Fetching Record 49 | thompson\n",
      "Fetching Record 50 | pozo colorado\n",
      "Fetching Record 51 | kasempa\n",
      "Fetching Record 52 | dudinka\n",
      "Fetching Record 53 | shimanovsk\n",
      "Fetching Record 54 | tikrit\n",
      "Fetching Record 55 | parkes\n",
      "Fetching Record 56 | kaitangata\n",
      "Fetching Record 57 | georgetown\n",
      "Fetching Record 58 | tigil\n",
      "Fetching Record 59 | bom jesus\n",
      "Fetching Record 60 | hermanus\n",
      "Fetching Record 61 | poum\n",
      "Fetching Record 62 | yenagoa\n",
      "Fetching Record 63 | busselton\n",
      "Fetching Record 64 | dillon\n",
      "Fetching Record 65 | hithadhoo\n",
      "Fetching Record 66 | codrington\n",
      "Fetching Record 67 | cape town\n",
      "Fetching Record 68 | moose factory\n",
      "Fetching Record 69 | khatanga\n",
      "Fetching Record 70 | da nang\n",
      "Fetching Record 71 | bocas del toro\n",
      "city not found\n",
      "Fetching Record 72 | tuzha\n",
      "Fetching Record 73 | mount isa\n",
      "Fetching Record 74 | kinkala\n",
      "Fetching Record 75 | anadyr\n",
      "Fetching Record 76 | shelburne\n",
      "Fetching Record 77 | hammerfest\n",
      "Fetching Record 78 | ahipara\n",
      "Fetching Record 79 | bowen\n",
      "Fetching Record 80 | fandriana\n",
      "Fetching Record 81 | castro\n",
      "Fetching Record 82 | emba\n",
      "Fetching Record 83 | bengkulu\n",
      "city not found\n",
      "city not found\n",
      "city not found\n",
      "Fetching Record 84 | kahului\n",
      "Fetching Record 85 | sola\n",
      "Fetching Record 86 | bamenda\n",
      "Fetching Record 87 | bredasdorp\n",
      "Fetching Record 88 | denpasar\n",
      "Fetching Record 89 | fort nelson\n",
      "Fetching Record 90 | shipitsyno\n",
      "Fetching Record 91 | nikolskoye\n",
      "Fetching Record 92 | tambura\n",
      "Fetching Record 93 | guerrero negro\n",
      "Fetching Record 94 | pontianak\n",
      "Fetching Record 95 | ulladulla\n",
      "city not found\n",
      "city not found\n",
      "Fetching Record 96 | victor harbor\n",
      "Fetching Record 97 | souillac\n",
      "Fetching Record 98 | ayan\n",
      "Fetching Record 99 | tabou\n",
      "Fetching Record 100 | makat\n",
      "Fetching Record 101 | banda aceh\n",
      "Fetching Record 102 | sarai\n",
      "Fetching Record 103 | roma\n",
      "Fetching Record 104 | vaini\n",
      "Fetching Record 105 | saint-pierre\n",
      "Fetching Record 106 | kandrian\n",
      "Fetching Record 107 | mahebourg\n",
      "Fetching Record 108 | fairbanks\n",
      "Fetching Record 109 | monrovia\n",
      "Fetching Record 110 | rawson\n",
      "Fetching Record 111 | east london\n",
      "Fetching Record 112 | punta arenas\n",
      "Fetching Record 113 | lompoc\n",
      "Fetching Record 114 | vaitape\n",
      "city not found\n",
      "Fetching Record 115 | tasiilaq\n",
      "Fetching Record 116 | usinsk\n",
      "Fetching Record 117 | leningradskiy\n",
      "Fetching Record 118 | port alfred\n",
      "Fetching Record 119 | harper\n",
      "Fetching Record 120 | hambantota\n",
      "Fetching Record 121 | udine\n",
      "Fetching Record 122 | mason city\n",
      "Fetching Record 123 | ponta do sol\n",
      "Fetching Record 124 | lasa\n",
      "Fetching Record 125 | priiskovyy\n",
      "Fetching Record 126 | katsuura\n",
      "Fetching Record 127 | pevek\n",
      "Fetching Record 128 | yabrud\n",
      "Fetching Record 129 | svetlaya\n",
      "Fetching Record 130 | imperia\n",
      "Fetching Record 131 | victoria\n",
      "Fetching Record 132 | fortuna\n",
      "Fetching Record 133 | calvinia\n",
      "Fetching Record 134 | cardinal\n",
      "city not found\n",
      "Fetching Record 135 | avarua\n",
      "Fetching Record 136 | haines junction\n",
      "Fetching Record 137 | miramar\n",
      "Fetching Record 138 | sukhobezvodnoye\n",
      "Fetching Record 139 | tual\n",
      "Fetching Record 140 | bourail\n",
      "Fetching Record 141 | sakakah\n",
      "Fetching Record 142 | sharjah\n",
      "Fetching Record 143 | airai\n",
      "Fetching Record 144 | margate\n",
      "Fetching Record 145 | mar del plata\n",
      "Fetching Record 146 | filadelfia\n",
      "Fetching Record 147 | barrow\n",
      "Fetching Record 148 | sitka\n",
      "Fetching Record 149 | kapaa\n",
      "Fetching Record 150 | carnarvon\n",
      "city not found\n",
      "Fetching Record 151 | ostersund\n",
      "Fetching Record 152 | albany\n",
      "Fetching Record 153 | lakatoro\n",
      "Fetching Record 154 | russell\n",
      "Fetching Record 155 | chicama\n",
      "Fetching Record 156 | bathsheba\n",
      "city not found\n",
      "Fetching Record 157 | hamilton\n",
      "Fetching Record 158 | zemio\n",
      "Fetching Record 159 | nome\n",
      "Fetching Record 160 | torbay\n",
      "Fetching Record 161 | moundou\n",
      "Fetching Record 162 | bandarbeyla\n",
      "Fetching Record 163 | omsukchan\n",
      "Fetching Record 164 | cherskiy\n",
      "Fetching Record 165 | richards bay\n",
      "city not found\n",
      "Fetching Record 166 | ancud\n",
      "Fetching Record 167 | trois-rivieres\n",
      "Fetching Record 168 | mocuba\n",
      "Fetching Record 169 | kamloops\n",
      "Fetching Record 170 | bac lieu\n",
      "Fetching Record 171 | ilulissat\n",
      "Fetching Record 172 | tignere\n",
      "Fetching Record 173 | aykhal\n",
      "Fetching Record 174 | adrar\n",
      "city not found\n",
      "city not found\n",
      "Fetching Record 175 | thinadhoo\n",
      "Fetching Record 176 | lavrentiya\n",
      "Fetching Record 177 | havre-saint-pierre\n",
      "Fetching Record 178 | bang saphan\n",
      "Fetching Record 179 | hilo\n",
      "Fetching Record 180 | pacific grove\n",
      "Fetching Record 181 | palanga\n",
      "Fetching Record 182 | bambous virieux\n",
      "Fetching Record 183 | san vicente\n",
      "Fetching Record 184 | arraial do cabo\n",
      "Fetching Record 185 | college\n",
      "Fetching Record 186 | cao bang\n",
      "Fetching Record 187 | mafinga\n",
      "Fetching Record 188 | atar\n",
      "Fetching Record 189 | tuatapere\n",
      "Fetching Record 190 | pisco\n",
      "Fetching Record 191 | ribeira grande\n",
      "Fetching Record 192 | namtsy\n",
      "Fetching Record 193 | kodinar\n",
      "Fetching Record 194 | faanui\n",
      "Fetching Record 195 | camacupa\n",
      "Fetching Record 196 | ukiah\n",
      "Fetching Record 197 | medvedka\n",
      "Fetching Record 198 | san jose\n",
      "Fetching Record 199 | kurilsk\n",
      "Fetching Record 200 | nouakchott\n",
      "Fetching Record 201 | karratha\n",
      "city not found\n",
      "Fetching Record 202 | brigantine\n",
      "Fetching Record 203 | palu\n",
      "Fetching Record 204 | aklavik\n",
      "Fetching Record 205 | chokurdakh\n",
      "city not found\n",
      "Fetching Record 206 | aktyubinskiy\n",
      "Fetching Record 207 | gat\n",
      "Fetching Record 208 | halifax\n",
      "Fetching Record 209 | saint-philippe\n",
      "Fetching Record 210 | itarema\n",
      "Fetching Record 211 | porto santo\n",
      "Fetching Record 212 | beringovskiy\n",
      "Fetching Record 213 | bethel\n",
      "Fetching Record 214 | giyani\n",
      "Fetching Record 215 | kidal\n",
      "Fetching Record 216 | nizwa\n",
      "Fetching Record 217 | faya\n",
      "Fetching Record 218 | whitehorse\n",
      "Fetching Record 219 | vezirkopru\n",
      "Fetching Record 220 | riviere-au-renard\n",
      "Fetching Record 221 | sternberk\n",
      "Fetching Record 222 | egana\n",
      "city not found\n",
      "Fetching Record 223 | paamiut\n",
      "Fetching Record 224 | punta umbria\n",
      "Fetching Record 225 | mount gambier\n",
      "Fetching Record 226 | husavik\n",
      "Fetching Record 227 | longyearbyen\n",
      "Fetching Record 228 | sistranda\n",
      "Fetching Record 229 | bollnas\n",
      "Fetching Record 230 | talara\n",
      "Fetching Record 231 | hualmay\n",
      "Fetching Record 232 | las varas\n",
      "Fetching Record 233 | san policarpo\n",
      "Fetching Record 234 | sabang\n",
      "Fetching Record 235 | soyo\n",
      "Fetching Record 236 | gonen\n",
      "Fetching Record 237 | cyangugu\n",
      "Fetching Record 238 | constitucion\n",
      "Fetching Record 239 | pangai\n",
      "Fetching Record 240 | aksu\n",
      "city not found\n",
      "Fetching Record 241 | ossora\n",
      "Fetching Record 242 | ostrovnoy\n",
      "Fetching Record 243 | katangli\n",
      "Fetching Record 244 | dauriya\n",
      "Fetching Record 245 | santa maria\n",
      "city not found\n",
      "Fetching Record 246 | assomada\n",
      "Fetching Record 247 | tabuk\n",
      "Fetching Record 248 | asau\n",
      "Fetching Record 249 | luena\n",
      "Fetching Record 250 | tiksi\n",
      "Fetching Record 251 | skibotn\n",
      "Fetching Record 252 | chuy\n",
      "city not found\n",
      "city not found\n",
      "Fetching Record 253 | wanganui\n",
      "city not found\n"
     ]
    },
    {
     "name": "stdout",
     "output_type": "stream",
     "text": [
      "Fetching Record 254 | kousseri\n",
      "Fetching Record 255 | manaus\n",
      "Fetching Record 256 | mudu\n",
      "Fetching Record 257 | sidi ali\n",
      "Fetching Record 258 | mogzon\n",
      "city not found\n",
      "Fetching Record 259 | dongsheng\n",
      "Fetching Record 260 | mehamn\n",
      "Fetching Record 261 | nowa deba\n",
      "Fetching Record 262 | nantucket\n",
      "Fetching Record 263 | bobon\n",
      "Fetching Record 264 | iqaluit\n",
      "Fetching Record 265 | goderich\n",
      "Fetching Record 266 | keti bandar\n",
      "Fetching Record 267 | birjand\n",
      "Fetching Record 268 | douentza\n",
      "Fetching Record 269 | kodiak\n",
      "Fetching Record 270 | mackenzie\n",
      "Fetching Record 271 | saint george\n",
      "Fetching Record 272 | rawlins\n",
      "Fetching Record 273 | yerbogachen\n",
      "Fetching Record 274 | tamandare\n",
      "Fetching Record 275 | mehran\n",
      "Fetching Record 276 | catamarca\n",
      "Fetching Record 277 | port elizabeth\n",
      "Fetching Record 278 | evensk\n",
      "Fetching Record 279 | tongchuan\n",
      "Fetching Record 280 | belaya gora\n",
      "Fetching Record 281 | buraydah\n",
      "Fetching Record 282 | athabasca\n",
      "Fetching Record 283 | strezhevoy\n",
      "Fetching Record 284 | metro\n",
      "Fetching Record 285 | olafsvik\n",
      "Fetching Record 286 | kosh-agach\n",
      "Fetching Record 287 | akyab\n",
      "city not found\n",
      "Fetching Record 288 | nakambala\n",
      "Fetching Record 289 | sambava\n",
      "Fetching Record 290 | nyurba\n",
      "Fetching Record 291 | pershotravneve\n",
      "Fetching Record 292 | havoysund\n",
      "Fetching Record 293 | kungsbacka\n",
      "Fetching Record 294 | ntoum\n",
      "Fetching Record 295 | baykit\n",
      "Fetching Record 296 | ionia\n",
      "Fetching Record 297 | tutoia\n",
      "Fetching Record 298 | kuching\n",
      "Fetching Record 299 | bodden town\n",
      "Fetching Record 300 | port blair\n",
      "Fetching Record 301 | seguin\n",
      "Fetching Record 302 | kangaatsiaq\n",
      "Fetching Record 303 | los llanos de aridane\n",
      "Fetching Record 304 | san luis\n",
      "Fetching Record 305 | talnakh\n",
      "Fetching Record 306 | saskylakh\n",
      "Fetching Record 307 | tulum\n",
      "Fetching Record 308 | manakara\n",
      "Fetching Record 309 | bilma\n",
      "Fetching Record 310 | verkhoyansk\n",
      "Fetching Record 311 | hirara\n",
      "Fetching Record 312 | fukue\n",
      "Fetching Record 313 | nampula\n",
      "Fetching Record 314 | sibolga\n",
      "Fetching Record 315 | washougal\n",
      "Fetching Record 316 | miles city\n",
      "Fetching Record 317 | kasongo-lunda\n",
      "Fetching Record 318 | colares\n",
      "Fetching Record 319 | belen\n",
      "Fetching Record 320 | cockburn town\n",
      "Fetching Record 321 | cidreira\n",
      "Fetching Record 322 | kruisfontein\n",
      "Fetching Record 323 | isla mujeres\n",
      "Fetching Record 324 | biharamulo\n",
      "Fetching Record 325 | damietta\n",
      "Fetching Record 326 | ketchikan\n",
      "Fetching Record 327 | hirson\n",
      "Fetching Record 328 | coihaique\n",
      "Fetching Record 329 | geraldton\n",
      "city not found\n",
      "Fetching Record 330 | san quintin\n",
      "Fetching Record 331 | itoman\n",
      "city not found\n",
      "Fetching Record 332 | nioro\n",
      "city not found\n",
      "Fetching Record 333 | nanortalik\n",
      "Fetching Record 334 | mayo\n",
      "Fetching Record 335 | troitsko-pechorsk\n",
      "city not found\n",
      "Fetching Record 336 | iturbe\n",
      "Fetching Record 337 | lima\n",
      "Fetching Record 338 | zhiryatino\n",
      "Fetching Record 339 | saldanha\n",
      "Fetching Record 340 | yuncheng\n",
      "Fetching Record 341 | reconquista\n",
      "Fetching Record 342 | savannah bight\n",
      "city not found\n",
      "Fetching Record 343 | kibungo\n",
      "Fetching Record 344 | carauari\n",
      "Fetching Record 345 | vila\n",
      "Fetching Record 346 | port lincoln\n",
      "Fetching Record 347 | marzuq\n",
      "Fetching Record 348 | iwanai\n",
      "Fetching Record 349 | uyskoye\n",
      "Fetching Record 350 | tura\n",
      "Fetching Record 351 | milkovo\n",
      "Fetching Record 352 | tera\n",
      "Fetching Record 353 | maniitsoq\n",
      "Fetching Record 354 | mpanda\n",
      "Fetching Record 355 | mount pleasant\n",
      "Fetching Record 356 | tiarei\n",
      "Fetching Record 357 | roald\n",
      "Fetching Record 358 | tulsipur\n",
      "Fetching Record 359 | melenki\n",
      "Fetching Record 360 | cururupu\n",
      "Fetching Record 361 | vanimo\n",
      "Fetching Record 362 | touros\n",
      "Fetching Record 363 | port hueneme\n",
      "Fetching Record 364 | grahamstown\n",
      "Fetching Record 365 | popova\n",
      "Fetching Record 366 | rimouski\n",
      "Fetching Record 367 | pauini\n",
      "Fetching Record 368 | cerritos\n",
      "Fetching Record 369 | gravdal\n",
      "Fetching Record 370 | cuamba\n",
      "Fetching Record 371 | starobaltachevo\n",
      "Fetching Record 372 | trinidad\n",
      "Fetching Record 373 | oktyabrskoye\n",
      "Fetching Record 374 | tibati\n",
      "Fetching Record 375 | sompeta\n",
      "Fetching Record 376 | acapulco\n",
      "Fetching Record 377 | cahir\n",
      "Fetching Record 378 | iquitos\n",
      "Fetching Record 379 | zemetchino\n",
      "Fetching Record 380 | alofi\n",
      "city not found\n",
      "Fetching Record 381 | pimentel\n",
      "Fetching Record 382 | poli\n",
      "Fetching Record 383 | port hope\n",
      "Fetching Record 384 | ponta delgada\n",
      "Fetching Record 385 | palana\n",
      "Fetching Record 386 | keelung\n",
      "Fetching Record 387 | beira\n",
      "Fetching Record 388 | vardo\n",
      "Fetching Record 389 | wiwili\n",
      "Fetching Record 390 | nishihara\n",
      "Fetching Record 391 | naze\n",
      "Fetching Record 392 | neustadt\n",
      "city not found\n",
      "Fetching Record 393 | aswan\n",
      "Fetching Record 394 | lagunas\n",
      "Fetching Record 395 | kanniyakumari\n",
      "Fetching Record 396 | monze\n",
      "Fetching Record 397 | darhan\n",
      "city not found\n",
      "Fetching Record 398 | gewane\n",
      "Fetching Record 399 | chililabombwe\n",
      "Fetching Record 400 | san patricio\n",
      "Fetching Record 401 | kununurra\n",
      "Fetching Record 402 | ruidoso\n",
      "Fetching Record 403 | laguna\n",
      "Fetching Record 404 | port shepstone\n",
      "Fetching Record 405 | zlobin\n",
      "Fetching Record 406 | fengzhen\n",
      "Fetching Record 407 | ploemeur\n",
      "Fetching Record 408 | praya\n",
      "Fetching Record 409 | saint-louis\n",
      "city not found\n",
      "Fetching Record 410 | lebu\n",
      "Fetching Record 411 | kushalgarh\n",
      "Fetching Record 412 | san miguel\n",
      "city not found\n",
      "Fetching Record 413 | songjianghe\n",
      "Fetching Record 414 | deputatskiy\n",
      "Fetching Record 415 | shenkursk\n",
      "Fetching Record 416 | port macquarie\n",
      "Fetching Record 417 | srednekolymsk\n",
      "Fetching Record 418 | esperance\n",
      "city not found\n",
      "Fetching Record 419 | mitu\n",
      "Fetching Record 420 | smithers\n",
      "Fetching Record 421 | tessalit\n",
      "Fetching Record 422 | tagusao\n",
      "Fetching Record 423 | balabac\n",
      "Fetching Record 424 | homer\n",
      "Fetching Record 425 | chara\n",
      "Fetching Record 426 | kawambwa\n",
      "Fetching Record 427 | saint-prosper\n",
      "Fetching Record 428 | marrakesh\n",
      "Fetching Record 429 | draper\n",
      "Fetching Record 430 | labuhan\n",
      "Fetching Record 431 | ocos\n",
      "city not found\n",
      "Fetching Record 432 | luderitz\n",
      "Fetching Record 433 | kindu\n",
      "Fetching Record 434 | narrabri\n",
      "Fetching Record 435 | cayenne\n",
      "Fetching Record 436 | ambulu\n",
      "Fetching Record 437 | iwaki\n",
      "Fetching Record 438 | lac du bonnet\n",
      "Fetching Record 439 | sundsvall\n",
      "Fetching Record 440 | abaza\n",
      "Fetching Record 441 | bubaque\n",
      "Fetching Record 442 | pasni\n",
      "Fetching Record 443 | erzin\n",
      "Fetching Record 444 | tamiahua\n",
      "Fetching Record 445 | silver city\n",
      "Fetching Record 446 | wakema\n",
      "Fetching Record 447 | dalvik\n",
      "city not found\n",
      "Fetching Record 448 | conceicao do araguaia\n",
      "Fetching Record 449 | biltine\n",
      "Fetching Record 450 | arlit\n",
      "Fetching Record 451 | stornoway\n",
      "Fetching Record 452 | uryupinsk\n",
      "Fetching Record 453 | saurimo\n",
      "city not found\n",
      "city not found\n",
      "Fetching Record 454 | ixtapa\n",
      "Fetching Record 455 | manadhoo\n",
      "Fetching Record 456 | ende\n",
      "Fetching Record 457 | bonavista\n",
      "Fetching Record 458 | kawalu\n",
      "Fetching Record 459 | okha\n",
      "Fetching Record 460 | boyolangu\n",
      "Fetching Record 461 | le vauclin\n",
      "Fetching Record 462 | kuruman\n",
      "city not found\n",
      "Fetching Record 463 | viedma\n",
      "Fetching Record 464 | sechura\n",
      "Fetching Record 465 | haimen\n",
      "Fetching Record 466 | kavieng\n",
      "Fetching Record 467 | ahuimanu\n",
      "Fetching Record 468 | chipinge\n",
      "Fetching Record 469 | de aar\n",
      "Fetching Record 470 | sabha\n",
      "Fetching Record 471 | namibe\n",
      "Fetching Record 472 | polaniec\n",
      "Fetching Record 473 | sinop\n",
      "Fetching Record 474 | belmonte\n",
      "Fetching Record 475 | los negros\n",
      "Fetching Record 476 | burnie\n",
      "Fetching Record 477 | navelim\n",
      "Fetching Record 478 | coahuayana\n",
      "Fetching Record 479 | novyy svit\n",
      "Fetching Record 480 | sandy bay\n",
      "Fetching Record 481 | chumphon\n",
      "city not found\n",
      "Fetching Record 482 | bilibino\n",
      "Fetching Record 483 | inhambane\n",
      "Fetching Record 484 | calama\n",
      "Fetching Record 485 | vila franca do campo\n",
      "Fetching Record 486 | miri\n",
      "Fetching Record 487 | kondinskoye\n",
      "Fetching Record 488 | rocha\n",
      "Fetching Record 489 | baruun-urt\n",
      "Fetching Record 490 | morant bay\n",
      "Fetching Record 491 | murgab\n",
      "Fetching Record 492 | chapais\n",
      "Fetching Record 493 | sisimiut\n",
      "Fetching Record 494 | mineral wells\n",
      "Fetching Record 495 | yulara\n",
      "Fetching Record 496 | yinchuan\n",
      "Fetching Record 497 | tayoltita\n",
      "Fetching Record 498 | maputo\n",
      "Fetching Record 499 | hokitika\n",
      "Fetching Record 500 | witu\n",
      "Fetching Record 501 | ust-maya\n",
      "Fetching Record 502 | fjerritslev\n",
      "Fetching Record 503 | luanda\n",
      "Fetching Record 504 | kieta\n",
      "Fetching Record 505 | shimoda\n",
      "Fetching Record 506 | comodoro rivadavia\n",
      "Fetching Record 507 | khumalag\n",
      "Fetching Record 508 | ishimbay\n"
     ]
    },
    {
     "name": "stdout",
     "output_type": "stream",
     "text": [
      "Fetching Record 509 | okhotsk\n",
      "Fetching Record 510 | batemans bay\n",
      "Fetching Record 511 | awbari\n",
      "Fetching Record 512 | santander\n",
      "Fetching Record 513 | broome\n",
      "Fetching Record 514 | zeya\n",
      "Fetching Record 515 | saint anthony\n",
      "Fetching Record 516 | skelleftea\n",
      "Fetching Record 517 | ugoofaaru\n",
      "Fetching Record 518 | qasigiannguit\n",
      "Fetching Record 519 | celestun\n",
      "Fetching Record 520 | buala\n",
      "Fetching Record 521 | falun\n",
      "Fetching Record 522 | baruta\n",
      "Fetching Record 523 | chimbote\n",
      "Fetching Record 524 | abasolo\n",
      "Fetching Record 525 | obzor\n",
      "Fetching Record 526 | cortez\n",
      "Fetching Record 527 | jalu\n",
      "Fetching Record 528 | kloulklubed\n",
      "Fetching Record 529 | yerkoy\n",
      "Fetching Record 530 | nzega\n",
      "Fetching Record 531 | kamaishi\n",
      "Fetching Record 532 | bihariganj\n",
      "Fetching Record 533 | burgeo\n",
      "Fetching Record 534 | bitkine\n",
      "Fetching Record 535 | orotukan\n",
      "Fetching Record 536 | moron\n",
      "Fetching Record 537 | khani\n",
      "Fetching Record 538 | seoul\n",
      "city not found\n",
      "Fetching Record 539 | waipawa\n",
      "Fetching Record 540 | salihorsk\n",
      "Fetching Record 541 | cabra\n",
      "Fetching Record 542 | ginda\n",
      "Fetching Record 543 | ussel\n",
      "Fetching Record 544 | puerto penasco\n",
      "city not found\n",
      "Fetching Record 545 | grojdibodu\n",
      "Fetching Record 546 | caborca\n",
      "Fetching Record 547 | shentala\n",
      "Fetching Record 548 | ikwiriri\n",
      "city not found\n",
      "Fetching Record 549 | saint-francois\n",
      "Fetching Record 550 | huayang\n",
      "Fetching Record 551 | nerchinskiy zavod\n",
      "Fetching Record 552 | dingle\n",
      "Fetching Record 553 | newport\n",
      "Fetching Record 554 | panalingaan\n",
      "Fetching Record 555 | xingtai\n",
      "Fetching Record 556 | toora-khem\n",
      "Fetching Record 557 | balikpapan\n",
      "Fetching Record 558 | jamame\n",
      "Fetching Record 559 | dandong\n",
      "Fetching Record 560 | shingu\n",
      "Fetching Record 561 | charlotte\n",
      "Fetching Record 562 | devils lake\n",
      "Fetching Record 563 | salalah\n",
      "Fetching Record 564 | gap\n",
      "city not found\n",
      "city not found\n",
      "Fetching Record 565 | vrangel\n",
      "city not found\n",
      "Fetching Record 566 | kaeo\n",
      "Fetching Record 567 | urbano santos\n",
      "Fetching Record 568 | puerto carreno\n",
      "Fetching Record 569 | hacari\n",
      "Fetching Record 570 | pilar\n",
      "Fetching Record 571 | moravsky beroun\n",
      "city not found\n",
      "city not found\n",
      "Fetching Record 572 | minas novas\n",
      "Fetching Record 573 | bull savanna\n",
      "city not found\n",
      "Fetching Record 574 | udachnyy\n",
      "city not found\n",
      "city not found\n",
      "Fetching Record 575 | kyra\n"
     ]
    }
   ],
   "source": [
    "url = \"http://api.openweathermap.org/data/2.5/weather?\"\n",
    "units = \"imperial\"\n",
    "#Build query URL\n",
    "query_url = f\"{url}appid={weather_api_key}&units={units}&q=\"\n",
    "\n",
    "#lists for holding values\n",
    "cityname = []\n",
    "temperature = []\n",
    "humidity = []\n",
    "cloudiness = []\n",
    "wind_speed = []\n",
    "latitude = []\n",
    "longitude = []\n",
    "count = 1\n",
    "\n",
    "for city in cities:\n",
    "    try:\n",
    "        response = requests.get(query_url + city).json()\n",
    "        cityname.append(response['name'])\n",
    "        temperature.append(response['main']['temp'])\n",
    "        humidity.append(response['main']['humidity'])\n",
    "        cloudiness.append(response['clouds']['all'])\n",
    "        wind_speed.append(response['wind']['speed'])\n",
    "        latitude.append(response['coord']['lat'])\n",
    "        longitude.append(response['coord']['lon'])\n",
    "        print(f\"Fetching Record {count} | {city}\") \n",
    "        count += 1\n",
    "    except:\n",
    "        print(\"city not found\")\n",
    "        continue\n"
   ]
  },
  {
   "cell_type": "markdown",
   "metadata": {},
   "source": [
    "### Convert Raw Data to DataFrame\n",
    "* Export the city data into a .csv.\n",
    "* Display the DataFrame"
   ]
  },
  {
   "cell_type": "code",
   "execution_count": 10,
   "metadata": {},
   "outputs": [
    {
     "data": {
      "text/html": [
       "<div>\n",
       "<style scoped>\n",
       "    .dataframe tbody tr th:only-of-type {\n",
       "        vertical-align: middle;\n",
       "    }\n",
       "\n",
       "    .dataframe tbody tr th {\n",
       "        vertical-align: top;\n",
       "    }\n",
       "\n",
       "    .dataframe thead th {\n",
       "        text-align: right;\n",
       "    }\n",
       "</style>\n",
       "<table border=\"1\" class=\"dataframe\">\n",
       "  <thead>\n",
       "    <tr style=\"text-align: right;\">\n",
       "      <th></th>\n",
       "      <th>City</th>\n",
       "      <th>Temperature</th>\n",
       "      <th>Humidity</th>\n",
       "      <th>Cloudiness</th>\n",
       "      <th>Wind Speed</th>\n",
       "      <th>Lat</th>\n",
       "      <th>Lng</th>\n",
       "    </tr>\n",
       "  </thead>\n",
       "  <tbody>\n",
       "    <tr>\n",
       "      <th>0</th>\n",
       "      <td>Petropavlovsk-Kamchatskiy</td>\n",
       "      <td>48.79</td>\n",
       "      <td>100</td>\n",
       "      <td>90</td>\n",
       "      <td>6.71</td>\n",
       "      <td>53.0452</td>\n",
       "      <td>158.6483</td>\n",
       "    </tr>\n",
       "    <tr>\n",
       "      <th>1</th>\n",
       "      <td>New Norfolk</td>\n",
       "      <td>55.89</td>\n",
       "      <td>78</td>\n",
       "      <td>86</td>\n",
       "      <td>1.88</td>\n",
       "      <td>-42.7826</td>\n",
       "      <td>147.0587</td>\n",
       "    </tr>\n",
       "    <tr>\n",
       "      <th>2</th>\n",
       "      <td>Yellowknife</td>\n",
       "      <td>59.52</td>\n",
       "      <td>67</td>\n",
       "      <td>20</td>\n",
       "      <td>8.05</td>\n",
       "      <td>62.4560</td>\n",
       "      <td>-114.3525</td>\n",
       "    </tr>\n",
       "    <tr>\n",
       "      <th>3</th>\n",
       "      <td>Darnah</td>\n",
       "      <td>70.57</td>\n",
       "      <td>79</td>\n",
       "      <td>0</td>\n",
       "      <td>11.88</td>\n",
       "      <td>32.7670</td>\n",
       "      <td>22.6367</td>\n",
       "    </tr>\n",
       "    <tr>\n",
       "      <th>4</th>\n",
       "      <td>Bluff</td>\n",
       "      <td>52.74</td>\n",
       "      <td>98</td>\n",
       "      <td>100</td>\n",
       "      <td>8.50</td>\n",
       "      <td>-46.6000</td>\n",
       "      <td>168.3333</td>\n",
       "    </tr>\n",
       "  </tbody>\n",
       "</table>\n",
       "</div>"
      ],
      "text/plain": [
       "                        City  Temperature  Humidity  Cloudiness  Wind Speed  \\\n",
       "0  Petropavlovsk-Kamchatskiy        48.79       100          90        6.71   \n",
       "1                New Norfolk        55.89        78          86        1.88   \n",
       "2                Yellowknife        59.52        67          20        8.05   \n",
       "3                     Darnah        70.57        79           0       11.88   \n",
       "4                      Bluff        52.74        98         100        8.50   \n",
       "\n",
       "       Lat       Lng  \n",
       "0  53.0452  158.6483  \n",
       "1 -42.7826  147.0587  \n",
       "2  62.4560 -114.3525  \n",
       "3  32.7670   22.6367  \n",
       "4 -46.6000  168.3333  "
      ]
     },
     "execution_count": 10,
     "metadata": {},
     "output_type": "execute_result"
    }
   ],
   "source": [
    "weather_city = {\n",
    "    'City': cityname,\n",
    "    'Temperature': temperature, \n",
    "    'Humidity': humidity,\n",
    "    'Cloudiness': cloudiness,\n",
    "    'Wind Speed': wind_speed,\n",
    "    'Lat': latitude, \n",
    "    'Lng': longitude \n",
    "}\n",
    "weather_data = pd.DataFrame(weather_city)\n",
    "weather_data.head()\n"
   ]
  },
  {
   "cell_type": "code",
   "execution_count": 11,
   "metadata": {},
   "outputs": [],
   "source": [
    "#export weather data to csv\n",
    "weather_data.to_csv(\"Output/CityWeather1.csv\")"
   ]
  },
  {
   "cell_type": "markdown",
   "metadata": {},
   "source": [
    "## Inspect the data and remove the cities where the humidity > 100%.\n",
    "\n",
    "Skip this step if there are no cities that have humidity > 100%. "
   ]
  },
  {
   "cell_type": "code",
   "execution_count": 12,
   "metadata": {},
   "outputs": [
    {
     "data": {
      "text/html": [
       "<div>\n",
       "<style scoped>\n",
       "    .dataframe tbody tr th:only-of-type {\n",
       "        vertical-align: middle;\n",
       "    }\n",
       "\n",
       "    .dataframe tbody tr th {\n",
       "        vertical-align: top;\n",
       "    }\n",
       "\n",
       "    .dataframe thead th {\n",
       "        text-align: right;\n",
       "    }\n",
       "</style>\n",
       "<table border=\"1\" class=\"dataframe\">\n",
       "  <thead>\n",
       "    <tr style=\"text-align: right;\">\n",
       "      <th></th>\n",
       "      <th>City</th>\n",
       "      <th>Temperature</th>\n",
       "      <th>Humidity</th>\n",
       "      <th>Cloudiness</th>\n",
       "      <th>Wind Speed</th>\n",
       "      <th>Lat</th>\n",
       "      <th>Lng</th>\n",
       "    </tr>\n",
       "  </thead>\n",
       "  <tbody>\n",
       "  </tbody>\n",
       "</table>\n",
       "</div>"
      ],
      "text/plain": [
       "Empty DataFrame\n",
       "Columns: [City, Temperature, Humidity, Cloudiness, Wind Speed, Lat, Lng]\n",
       "Index: []"
      ]
     },
     "execution_count": 12,
     "metadata": {},
     "output_type": "execute_result"
    }
   ],
   "source": [
    "#  Get the indices of cities that have humidity over 100%.\n",
    "humidity_check = weather_data.loc[weather_data['Humidity'] > 100]\n",
    "humidity_check"
   ]
  },
  {
   "cell_type": "code",
   "execution_count": null,
   "metadata": {},
   "outputs": [],
   "source": [
    "#  Get the indices of cities that have humidity over 100%.\n"
   ]
  },
  {
   "cell_type": "code",
   "execution_count": null,
   "metadata": {},
   "outputs": [],
   "source": [
    "# Make a new DataFrame equal to the city data to drop all humidity outliers by index.\n",
    "# Passing \"inplace=False\" will make a copy of the city_data DataFrame, which we call \"clean_city_data\".\n"
   ]
  },
  {
   "cell_type": "code",
   "execution_count": null,
   "metadata": {},
   "outputs": [],
   "source": [
    "\n"
   ]
  },
  {
   "cell_type": "markdown",
   "metadata": {},
   "source": [
    "## Plotting the Data\n",
    "* Use proper labeling of the plots using plot titles (including date of analysis) and axes labels.\n",
    "* Save the plotted figures as .pngs."
   ]
  },
  {
   "cell_type": "markdown",
   "metadata": {},
   "source": [
    "## Latitude vs. Temperature Plot"
   ]
  },
  {
   "cell_type": "code",
   "execution_count": 16,
   "metadata": {
    "scrolled": true
   },
   "outputs": [
    {
     "data": {
      "image/png": "[encoded data removed]",
      "text/plain": [
       "<Figure size 432x288 with 1 Axes>"
      ]
     },
     "metadata": {
      "needs_background": "light"
     },
     "output_type": "display_data"
    }
   ],
   "source": [
    "# Create a Scatter Plot for temperature vs latitude\n",
    "x_values = weather_data['Lat']\n",
    "y_values = weather_data['Temperature']\n",
    "plt.scatter(x_values,y_values)\n",
    "plt.title('Latitude vs. Temperature Plot (06/12/21)')\n",
    "plt.xlabel('Latitude')\n",
    "plt.ylabel('Temperature (F)')\n",
    "plt.savefig('lat_temp.png')\n",
    "plt.show()\n",
    "#lower temperatures are found further away from the equator"
   ]
  },
  {
   "cell_type": "markdown",
   "metadata": {},
   "source": [
    "## Latitude vs. Humidity Plot"
   ]
  },
  {
   "cell_type": "code",
   "execution_count": 17,
   "metadata": {},
   "outputs": [
    {
     "data": {
      "image/png": "[encoded data removed]",
      "text/plain": [
       "<Figure size 432x288 with 1 Axes>"
      ]
     },
     "metadata": {
      "needs_background": "light"
     },
     "output_type": "display_data"
    }
   ],
   "source": [
    "# Create a Scatter Plot for Latitude vs Humidity\n",
    "x_values = weather_data['Lat']\n",
    "y_values = weather_data['Humidity']\n",
    "plt.scatter(x_values,y_values)\n",
    "plt.title('Latitude vs. Humidity Plot (06/12/21)')\n",
    "plt.xlabel('Latitude')\n",
    "plt.ylabel('Humidity (%)')\n",
    "plt.savefig('lat_hum.png')\n",
    "plt.show()\n",
    "#humidity is not dependent on latitude"
   ]
  },
  {
   "cell_type": "markdown",
   "metadata": {},
   "source": [
    "## Latitude vs. Cloudiness Plot"
   ]
  },
  {
   "cell_type": "code",
   "execution_count": 18,
   "metadata": {},
   "outputs": [
    {
     "data": {
      "image/png": "[encoded data removed]",
      "text/plain": [
       "<Figure size 432x288 with 1 Axes>"
      ]
     },
     "metadata": {
      "needs_background": "light"
     },
     "output_type": "display_data"
    }
   ],
   "source": [
    "# Create a Scatter Plot for Latitude vs Cloudiness\n",
    "x_values = weather_data['Lat']\n",
    "y_values = weather_data['Cloudiness']\n",
    "plt.scatter(x_values,y_values)\n",
    "plt.title('Latitude vs. Cloudiness Plot (06/12/21)')\n",
    "plt.xlabel('Latitude')\n",
    "plt.ylabel('Cloudiness(%)')\n",
    "plt.savefig('lat_cloud.png')\n",
    "plt.show()\n",
    "#cloudiness is not dependent on latitude"
   ]
  },
  {
   "cell_type": "markdown",
   "metadata": {},
   "source": [
    "## Latitude vs. Wind Speed Plot"
   ]
  },
  {
   "cell_type": "code",
   "execution_count": 19,
   "metadata": {},
   "outputs": [
    {
     "data": {
      "image/png": "[encoded data removed]",
      "text/plain": [
       "<Figure size 432x288 with 1 Axes>"
      ]
     },
     "metadata": {
      "needs_background": "light"
     },
     "output_type": "display_data"
    }
   ],
   "source": [
    "# Create a Scatter Plot for Latitude vs Wind speed\n",
    "x_values = weather_data['Lat']\n",
    "y_values = weather_data['Wind Speed']\n",
    "plt.scatter(x_values,y_values)\n",
    "plt.title('Latitude vs. Wind Speed Plot (06/12/21)')\n",
    "plt.xlabel('Latitude')\n",
    "plt.ylabel('Wind Speed (mph)')\n",
    "plt.savefig('lat_wind.png')\n",
    "plt.show()\n",
    "#wind speed is not dependent on latitude"
   ]
  },
  {
   "cell_type": "markdown",
   "metadata": {},
   "source": [
    "## Linear Regression"
   ]
  },
  {
   "cell_type": "code",
   "execution_count": 20,
   "metadata": {},
   "outputs": [],
   "source": [
    "NorthernHemisphere = weather_data.loc[weather_data['Lat'] > 0]\n",
    "SouthernHemisphere = weather_data.loc[weather_data['Lat'] < 0]\n"
   ]
  },
  {
   "cell_type": "markdown",
   "metadata": {},
   "source": [
    "####  Northern Hemisphere - Max Temp vs. Latitude Linear Regression"
   ]
  },
  {
   "cell_type": "code",
   "execution_count": 21,
   "metadata": {},
   "outputs": [
    {
     "data": {
      "text/html": [
       "<div>\n",
       "<style scoped>\n",
       "    .dataframe tbody tr th:only-of-type {\n",
       "        vertical-align: middle;\n",
       "    }\n",
       "\n",
       "    .dataframe tbody tr th {\n",
       "        vertical-align: top;\n",
       "    }\n",
       "\n",
       "    .dataframe thead th {\n",
       "        text-align: right;\n",
       "    }\n",
       "</style>\n",
       "<table border=\"1\" class=\"dataframe\">\n",
       "  <thead>\n",
       "    <tr style=\"text-align: right;\">\n",
       "      <th></th>\n",
       "      <th>City</th>\n",
       "      <th>Temperature</th>\n",
       "      <th>Humidity</th>\n",
       "      <th>Cloudiness</th>\n",
       "      <th>Wind Speed</th>\n",
       "      <th>Lat</th>\n",
       "      <th>Lng</th>\n",
       "    </tr>\n",
       "  </thead>\n",
       "  <tbody>\n",
       "    <tr>\n",
       "      <th>0</th>\n",
       "      <td>Petropavlovsk-Kamchatskiy</td>\n",
       "      <td>48.79</td>\n",
       "      <td>100</td>\n",
       "      <td>90</td>\n",
       "      <td>6.71</td>\n",
       "      <td>53.0452</td>\n",
       "      <td>158.6483</td>\n",
       "    </tr>\n",
       "    <tr>\n",
       "      <th>2</th>\n",
       "      <td>Yellowknife</td>\n",
       "      <td>59.52</td>\n",
       "      <td>67</td>\n",
       "      <td>20</td>\n",
       "      <td>8.05</td>\n",
       "      <td>62.4560</td>\n",
       "      <td>-114.3525</td>\n",
       "    </tr>\n",
       "    <tr>\n",
       "      <th>3</th>\n",
       "      <td>Darnah</td>\n",
       "      <td>70.57</td>\n",
       "      <td>79</td>\n",
       "      <td>0</td>\n",
       "      <td>11.88</td>\n",
       "      <td>32.7670</td>\n",
       "      <td>22.6367</td>\n",
       "    </tr>\n",
       "    <tr>\n",
       "      <th>5</th>\n",
       "      <td>Cabo San Lucas</td>\n",
       "      <td>79.63</td>\n",
       "      <td>68</td>\n",
       "      <td>4</td>\n",
       "      <td>5.68</td>\n",
       "      <td>22.8909</td>\n",
       "      <td>-109.9124</td>\n",
       "    </tr>\n",
       "    <tr>\n",
       "      <th>8</th>\n",
       "      <td>Qaanaaq</td>\n",
       "      <td>27.64</td>\n",
       "      <td>84</td>\n",
       "      <td>86</td>\n",
       "      <td>3.83</td>\n",
       "      <td>77.4840</td>\n",
       "      <td>-69.3632</td>\n",
       "    </tr>\n",
       "    <tr>\n",
       "      <th>...</th>\n",
       "      <td>...</td>\n",
       "      <td>...</td>\n",
       "      <td>...</td>\n",
       "      <td>...</td>\n",
       "      <td>...</td>\n",
       "      <td>...</td>\n",
       "      <td>...</td>\n",
       "    </tr>\n",
       "    <tr>\n",
       "      <th>568</th>\n",
       "      <td>Hacarí</td>\n",
       "      <td>65.48</td>\n",
       "      <td>94</td>\n",
       "      <td>88</td>\n",
       "      <td>1.92</td>\n",
       "      <td>8.3233</td>\n",
       "      <td>-73.1489</td>\n",
       "    </tr>\n",
       "    <tr>\n",
       "      <th>570</th>\n",
       "      <td>Moravský Beroun</td>\n",
       "      <td>51.06</td>\n",
       "      <td>76</td>\n",
       "      <td>40</td>\n",
       "      <td>8.99</td>\n",
       "      <td>49.7937</td>\n",
       "      <td>17.4421</td>\n",
       "    </tr>\n",
       "    <tr>\n",
       "      <th>572</th>\n",
       "      <td>Bull Savanna</td>\n",
       "      <td>75.54</td>\n",
       "      <td>87</td>\n",
       "      <td>100</td>\n",
       "      <td>7.99</td>\n",
       "      <td>17.8868</td>\n",
       "      <td>-77.5902</td>\n",
       "    </tr>\n",
       "    <tr>\n",
       "      <th>573</th>\n",
       "      <td>Udachny</td>\n",
       "      <td>49.77</td>\n",
       "      <td>71</td>\n",
       "      <td>100</td>\n",
       "      <td>11.30</td>\n",
       "      <td>66.4167</td>\n",
       "      <td>112.4000</td>\n",
       "    </tr>\n",
       "    <tr>\n",
       "      <th>574</th>\n",
       "      <td>Kyra</td>\n",
       "      <td>64.53</td>\n",
       "      <td>78</td>\n",
       "      <td>98</td>\n",
       "      <td>8.25</td>\n",
       "      <td>49.5776</td>\n",
       "      <td>111.9753</td>\n",
       "    </tr>\n",
       "  </tbody>\n",
       "</table>\n",
       "<p>399 rows × 7 columns</p>\n",
       "</div>"
      ],
      "text/plain": [
       "                          City  Temperature  Humidity  Cloudiness  Wind Speed  \\\n",
       "0    Petropavlovsk-Kamchatskiy        48.79       100          90        6.71   \n",
       "2                  Yellowknife        59.52        67          20        8.05   \n",
       "3                       Darnah        70.57        79           0       11.88   \n",
       "5               Cabo San Lucas        79.63        68           4        5.68   \n",
       "8                      Qaanaaq        27.64        84          86        3.83   \n",
       "..                         ...          ...       ...         ...         ...   \n",
       "568                     Hacarí        65.48        94          88        1.92   \n",
       "570            Moravský Beroun        51.06        76          40        8.99   \n",
       "572               Bull Savanna        75.54        87         100        7.99   \n",
       "573                    Udachny        49.77        71         100       11.30   \n",
       "574                       Kyra        64.53        78          98        8.25   \n",
       "\n",
       "         Lat       Lng  \n",
       "0    53.0452  158.6483  \n",
       "2    62.4560 -114.3525  \n",
       "3    32.7670   22.6367  \n",
       "5    22.8909 -109.9124  \n",
       "8    77.4840  -69.3632  \n",
       "..       ...       ...  \n",
       "568   8.3233  -73.1489  \n",
       "570  49.7937   17.4421  \n",
       "572  17.8868  -77.5902  \n",
       "573  66.4167  112.4000  \n",
       "574  49.5776  111.9753  \n",
       "\n",
       "[399 rows x 7 columns]"
      ]
     },
     "execution_count": 21,
     "metadata": {},
     "output_type": "execute_result"
    }
   ],
   "source": [
    "NorthernHemisphere"
   ]
  },
  {
   "cell_type": "code",
   "execution_count": 23,
   "metadata": {},
   "outputs": [
    {
     "name": "stdout",
     "output_type": "stream",
     "text": [
      "The r-squared is: 0.5903744796348914\n"
     ]
    },
    {
     "data": {
      "image/png": "[encoded data removed]",
      "text/plain": [
       "<Figure size 432x288 with 1 Axes>"
      ]
     },
     "metadata": {
      "needs_background": "light"
     },
     "output_type": "display_data"
    }
   ],
   "source": [
    "# Create a Scatter Plot for temperature vs latitude for northern hemisphere\n",
    "x_values = NorthernHemisphere['Lat']\n",
    "y_values = NorthernHemisphere['Temperature']\n",
    "(slope, intercept, rvalue, pvalue, stderr) = linregress(x_values, y_values)\n",
    "regress_values = x_values * slope + intercept\n",
    "line_eq = \"y = \" + str(round(slope,2)) + \"x + \" + str(round(intercept,2))\n",
    "plt.scatter(x_values,y_values)\n",
    "plt.plot(x_values,regress_values,\"r-\")\n",
    "plt.annotate(line_eq,(50,90),fontsize=10,color=\"red\")\n",
    "plt.title('Northern Hemisphere Latitude vs. Temperature Plot (06/12/21)')\n",
    "plt.xlabel('Latitude')\n",
    "plt.ylabel('Temperature (F)')\n",
    "print(f\"The r-squared is: {rvalue**2}\")\n",
    "plt.show()\n",
    "# in the northern hemisphere temperature is lower at higher latitudes and is inversely correlated"
   ]
  },
  {
   "cell_type": "markdown",
   "metadata": {},
   "source": [
    "####  Southern Hemisphere - Max Temp vs. Latitude Linear Regression"
   ]
  },
  {
   "cell_type": "code",
   "execution_count": 24,
   "metadata": {},
   "outputs": [
    {
     "data": {
      "text/html": [
       "<div>\n",
       "<style scoped>\n",
       "    .dataframe tbody tr th:only-of-type {\n",
       "        vertical-align: middle;\n",
       "    }\n",
       "\n",
       "    .dataframe tbody tr th {\n",
       "        vertical-align: top;\n",
       "    }\n",
       "\n",
       "    .dataframe thead th {\n",
       "        text-align: right;\n",
       "    }\n",
       "</style>\n",
       "<table border=\"1\" class=\"dataframe\">\n",
       "  <thead>\n",
       "    <tr style=\"text-align: right;\">\n",
       "      <th></th>\n",
       "      <th>City</th>\n",
       "      <th>Temperature</th>\n",
       "      <th>Humidity</th>\n",
       "      <th>Cloudiness</th>\n",
       "      <th>Wind Speed</th>\n",
       "      <th>Lat</th>\n",
       "      <th>Lng</th>\n",
       "    </tr>\n",
       "  </thead>\n",
       "  <tbody>\n",
       "    <tr>\n",
       "      <th>1</th>\n",
       "      <td>New Norfolk</td>\n",
       "      <td>55.89</td>\n",
       "      <td>78</td>\n",
       "      <td>86</td>\n",
       "      <td>1.88</td>\n",
       "      <td>-42.7826</td>\n",
       "      <td>147.0587</td>\n",
       "    </tr>\n",
       "    <tr>\n",
       "      <th>4</th>\n",
       "      <td>Bluff</td>\n",
       "      <td>52.74</td>\n",
       "      <td>98</td>\n",
       "      <td>100</td>\n",
       "      <td>8.50</td>\n",
       "      <td>-46.6000</td>\n",
       "      <td>168.3333</td>\n",
       "    </tr>\n",
       "    <tr>\n",
       "      <th>6</th>\n",
       "      <td>Lorengau</td>\n",
       "      <td>85.44</td>\n",
       "      <td>69</td>\n",
       "      <td>9</td>\n",
       "      <td>10.96</td>\n",
       "      <td>-2.0226</td>\n",
       "      <td>147.2712</td>\n",
       "    </tr>\n",
       "    <tr>\n",
       "      <th>7</th>\n",
       "      <td>Puerto Ayora</td>\n",
       "      <td>73.54</td>\n",
       "      <td>90</td>\n",
       "      <td>52</td>\n",
       "      <td>10.00</td>\n",
       "      <td>-0.7393</td>\n",
       "      <td>-90.3518</td>\n",
       "    </tr>\n",
       "    <tr>\n",
       "      <th>11</th>\n",
       "      <td>Ushuaia</td>\n",
       "      <td>38.86</td>\n",
       "      <td>87</td>\n",
       "      <td>75</td>\n",
       "      <td>26.46</td>\n",
       "      <td>-54.8000</td>\n",
       "      <td>-68.3000</td>\n",
       "    </tr>\n",
       "    <tr>\n",
       "      <th>...</th>\n",
       "      <td>...</td>\n",
       "      <td>...</td>\n",
       "      <td>...</td>\n",
       "      <td>...</td>\n",
       "      <td>...</td>\n",
       "      <td>...</td>\n",
       "      <td>...</td>\n",
       "    </tr>\n",
       "    <tr>\n",
       "      <th>556</th>\n",
       "      <td>Balikpapan</td>\n",
       "      <td>83.39</td>\n",
       "      <td>79</td>\n",
       "      <td>20</td>\n",
       "      <td>4.61</td>\n",
       "      <td>-1.2675</td>\n",
       "      <td>116.8289</td>\n",
       "    </tr>\n",
       "    <tr>\n",
       "      <th>565</th>\n",
       "      <td>Kaeo</td>\n",
       "      <td>63.32</td>\n",
       "      <td>94</td>\n",
       "      <td>100</td>\n",
       "      <td>10.58</td>\n",
       "      <td>-35.1000</td>\n",
       "      <td>173.7833</td>\n",
       "    </tr>\n",
       "    <tr>\n",
       "      <th>566</th>\n",
       "      <td>Urbano Santos</td>\n",
       "      <td>70.81</td>\n",
       "      <td>98</td>\n",
       "      <td>30</td>\n",
       "      <td>3.36</td>\n",
       "      <td>-3.2078</td>\n",
       "      <td>-43.4036</td>\n",
       "    </tr>\n",
       "    <tr>\n",
       "      <th>569</th>\n",
       "      <td>Pilar</td>\n",
       "      <td>69.73</td>\n",
       "      <td>93</td>\n",
       "      <td>100</td>\n",
       "      <td>1.74</td>\n",
       "      <td>-9.5972</td>\n",
       "      <td>-35.9567</td>\n",
       "    </tr>\n",
       "    <tr>\n",
       "      <th>571</th>\n",
       "      <td>Minas Novas</td>\n",
       "      <td>65.16</td>\n",
       "      <td>92</td>\n",
       "      <td>95</td>\n",
       "      <td>1.72</td>\n",
       "      <td>-17.2186</td>\n",
       "      <td>-42.5903</td>\n",
       "    </tr>\n",
       "  </tbody>\n",
       "</table>\n",
       "<p>176 rows × 7 columns</p>\n",
       "</div>"
      ],
      "text/plain": [
       "              City  Temperature  Humidity  Cloudiness  Wind Speed      Lat  \\\n",
       "1      New Norfolk        55.89        78          86        1.88 -42.7826   \n",
       "4            Bluff        52.74        98         100        8.50 -46.6000   \n",
       "6         Lorengau        85.44        69           9       10.96  -2.0226   \n",
       "7     Puerto Ayora        73.54        90          52       10.00  -0.7393   \n",
       "11         Ushuaia        38.86        87          75       26.46 -54.8000   \n",
       "..             ...          ...       ...         ...         ...      ...   \n",
       "556     Balikpapan        83.39        79          20        4.61  -1.2675   \n",
       "565           Kaeo        63.32        94         100       10.58 -35.1000   \n",
       "566  Urbano Santos        70.81        98          30        3.36  -3.2078   \n",
       "569          Pilar        69.73        93         100        1.74  -9.5972   \n",
       "571    Minas Novas        65.16        92          95        1.72 -17.2186   \n",
       "\n",
       "          Lng  \n",
       "1    147.0587  \n",
       "4    168.3333  \n",
       "6    147.2712  \n",
       "7    -90.3518  \n",
       "11   -68.3000  \n",
       "..        ...  \n",
       "556  116.8289  \n",
       "565  173.7833  \n",
       "566  -43.4036  \n",
       "569  -35.9567  \n",
       "571  -42.5903  \n",
       "\n",
       "[176 rows x 7 columns]"
      ]
     },
     "execution_count": 24,
     "metadata": {},
     "output_type": "execute_result"
    }
   ],
   "source": [
    "SouthernHemisphere"
   ]
  },
  {
   "cell_type": "code",
   "execution_count": 25,
   "metadata": {},
   "outputs": [
    {
     "name": "stdout",
     "output_type": "stream",
     "text": [
      "The r-squared is: 0.3740432395958787\n"
     ]
    },
    {
     "data": {
      "image/png": "[encoded data removed]",
      "text/plain": [
       "<Figure size 432x288 with 1 Axes>"
      ]
     },
     "metadata": {
      "needs_background": "light"
     },
     "output_type": "display_data"
    }
   ],
   "source": [
    "# Create a Scatter Plot for temperature vs latitude for southern hemisphere\n",
    "x_values = SouthernHemisphere['Lat']\n",
    "y_values = SouthernHemisphere['Temperature']\n",
    "(slope, intercept, rvalue, pvalue, stderr) = linregress(x_values, y_values)\n",
    "regress_values = x_values * slope + intercept\n",
    "line_eq = \"y = \" + str(round(slope,2)) + \"x + \" + str(round(intercept,2))\n",
    "plt.scatter(x_values,y_values)\n",
    "plt.plot(x_values,regress_values,\"r-\")\n",
    "plt.annotate(line_eq,(-55, 80),fontsize=10,color=\"red\")\n",
    "plt.title('Southern Hemisphere Latitude vs. Temperature Plot (06/12/21)')\n",
    "plt.xlabel('Latitude')\n",
    "plt.ylabel('Temperature (F)')\n",
    "print(f\"The r-squared is: {rvalue**2}\")\n",
    "plt.show()\n",
    "#in the southern hemisphere temperature increased toward the equator and is positively correlated"
   ]
  },
  {
   "cell_type": "markdown",
   "metadata": {},
   "source": [
    "####  Northern Hemisphere - Humidity (%) vs. Latitude Linear Regression"
   ]
  },
  {
   "cell_type": "code",
   "execution_count": 32,
   "metadata": {},
   "outputs": [
    {
     "name": "stdout",
     "output_type": "stream",
     "text": [
      "The r-squared is: 0.00041087056478540066\n"
     ]
    },
    {
     "data": {
      "image/png": "[encoded data removed]",
      "text/plain": [
       "<Figure size 432x288 with 1 Axes>"
      ]
     },
     "metadata": {
      "needs_background": "light"
     },
     "output_type": "display_data"
    }
   ],
   "source": [
    "# Create a Scatter Plot for Northern Hemisphere Latitude vs Humidity\n",
    "x_values = NorthernHemisphere['Lat']\n",
    "y_values = NorthernHemisphere['Humidity']\n",
    "(slope, intercept, rvalue, pvalue, stderr) = linregress(x_values, y_values)\n",
    "regress_values = x_values * slope + intercept\n",
    "line_eq = \"y = \" + str(round(slope,2)) + \"x + \" + str(round(intercept,2))\n",
    "plt.scatter(x_values,y_values)\n",
    "plt.plot(x_values,regress_values,\"r-\")\n",
    "plt.annotate(line_eq,(50,10),fontsize=10,color=\"red\")\n",
    "plt.title('Northern Hemisphere Latitude vs. Humidity Plot (06/12/21)')\n",
    "plt.xlabel('Latitude')\n",
    "plt.ylabel('Humidity (%))')\n",
    "print(f\"The r-squared is: {rvalue**2}\")\n",
    "plt.show()\n",
    "#there is no apparent correlation between latitude and humidity in the northern hemisphere"
   ]
  },
  {
   "cell_type": "markdown",
   "metadata": {},
   "source": [
    "####  Southern Hemisphere - Humidity (%) vs. Latitude Linear Regression"
   ]
  },
  {
   "cell_type": "code",
   "execution_count": 27,
   "metadata": {},
   "outputs": [
    {
     "name": "stdout",
     "output_type": "stream",
     "text": [
      "The r-squared is: 9.496984413893051e-05\n"
     ]
    },
    {
     "data": {
      "image/png": "[encoded data removed]",
      "text/plain": [
       "<Figure size 432x288 with 1 Axes>"
      ]
     },
     "metadata": {
      "needs_background": "light"
     },
     "output_type": "display_data"
    }
   ],
   "source": [
    "# Create a Scatter Plot for Southern Hemisphere Latitude vs Humidity\n",
    "x_values = SouthernHemisphere['Lat']\n",
    "y_values = SouthernHemisphere['Humidity']\n",
    "(slope, intercept, rvalue, pvalue, stderr) = linregress(x_values, y_values)\n",
    "regress_values = x_values * slope + intercept\n",
    "line_eq = \"y = \" + str(round(slope,2)) + \"x + \" + str(round(intercept,2))\n",
    "plt.scatter(x_values,y_values)\n",
    "plt.plot(x_values,regress_values,\"r-\")\n",
    "plt.annotate(line_eq,(-50,10),fontsize=10,color=\"red\")\n",
    "plt.title('Southern Hemisphere Latitude vs. Humidity Plot (06/12/21)')\n",
    "plt.xlabel('Latitude')\n",
    "plt.ylabel('Humidity (%))')\n",
    "print(f\"The r-squared is: {rvalue**2}\")\n",
    "plt.show()\n",
    "#there is no apparent correlation between latitude and humidity in the southern hemisphere"
   ]
  },
  {
   "cell_type": "markdown",
   "metadata": {},
   "source": [
    "####  Northern Hemisphere - Cloudiness (%) vs. Latitude Linear Regression"
   ]
  },
  {
   "cell_type": "code",
   "execution_count": 28,
   "metadata": {},
   "outputs": [
    {
     "name": "stdout",
     "output_type": "stream",
     "text": [
      "The r-squared is: 0.005719273309785567\n"
     ]
    },
    {
     "data": {
      "image/png": "[encoded data removed]",
      "text/plain": [
       "<Figure size 432x288 with 1 Axes>"
      ]
     },
     "metadata": {
      "needs_background": "light"
     },
     "output_type": "display_data"
    }
   ],
   "source": [
    "# Create a Scatter Plot for Cloudiness vs latitude for southern hemisphere\n",
    "x_values = NorthernHemisphere['Lat']\n",
    "y_values = NorthernHemisphere['Cloudiness']\n",
    "(slope, intercept, rvalue, pvalue, stderr) = linregress(x_values, y_values)\n",
    "regress_values = x_values * slope + intercept\n",
    "line_eq = \"y = \" + str(round(slope,2)) + \"x + \" + str(round(intercept,2))\n",
    "plt.scatter(x_values,y_values)\n",
    "plt.plot(x_values,regress_values,\"r-\")\n",
    "plt.annotate(line_eq,(80, 10),fontsize=10,color=\"red\")\n",
    "plt.title('Northern Hemisphere Cloudiness vs. Temperature Plot (06/12/21)')\n",
    "plt.xlabel('Latitude')\n",
    "plt.ylabel('Coudiness (%)')\n",
    "print(f\"The r-squared is: {rvalue**2}\")\n",
    "plt.show()\n",
    "#there is no apparent correlation between latitude and cloudiness in the northern hemisphere"
   ]
  },
  {
   "cell_type": "markdown",
   "metadata": {},
   "source": [
    "####  Southern Hemisphere - Cloudiness (%) vs. Latitude Linear Regression"
   ]
  },
  {
   "cell_type": "code",
   "execution_count": 33,
   "metadata": {},
   "outputs": [
    {
     "name": "stdout",
     "output_type": "stream",
     "text": [
      "The r-squared is: 0.013803996238752536\n"
     ]
    },
    {
     "data": {
      "image/png": "[encoded data removed]",
      "text/plain": [
       "<Figure size 432x288 with 1 Axes>"
      ]
     },
     "metadata": {
      "needs_background": "light"
     },
     "output_type": "display_data"
    }
   ],
   "source": [
    "# Create a Scatter Plot for Cloudiness vs latitude for southern hemisphere\n",
    "x_values = SouthernHemisphere['Lat']\n",
    "y_values = SouthernHemisphere['Cloudiness']\n",
    "(slope, intercept, rvalue, pvalue, stderr) = linregress(x_values, y_values)\n",
    "regress_values = x_values * slope + intercept\n",
    "line_eq = \"y = \" + str(round(slope,2)) + \"x + \" + str(round(intercept,2))\n",
    "plt.scatter(x_values,y_values)\n",
    "plt.plot(x_values,regress_values,\"r-\")\n",
    "plt.annotate(line_eq,(-50, 10),fontsize=10,color=\"red\")\n",
    "plt.title('Southern Hemisphere Cloudiness vs. Temperature Plot (06/12/21)')\n",
    "plt.xlabel('Latitude')\n",
    "plt.ylabel('Coudiness (%)')\n",
    "print(f\"The r-squared is: {rvalue**2}\")\n",
    "plt.show()\n",
    "#there is no apparent correlation between latitude and cloudiness in the southern hemisphere"
   ]
  },
  {
   "cell_type": "markdown",
   "metadata": {},
   "source": [
    "####  Northern Hemisphere - Wind Speed (mph) vs. Latitude Linear Regression"
   ]
  },
  {
   "cell_type": "code",
   "execution_count": 30,
   "metadata": {},
   "outputs": [
    {
     "name": "stdout",
     "output_type": "stream",
     "text": [
      "The r-squared is: 0.006885609652464634\n"
     ]
    },
    {
     "data": {
      "image/png": "[encoded data removed]",
      "text/plain": [
       "<Figure size 432x288 with 1 Axes>"
      ]
     },
     "metadata": {
      "needs_background": "light"
     },
     "output_type": "display_data"
    }
   ],
   "source": [
    "# Create a Scatter Plot for Wind Speed vs latitude for southern hemisphere\n",
    "x_values = NorthernHemisphere['Lat']\n",
    "y_values = NorthernHemisphere['Wind Speed']\n",
    "(slope, intercept, rvalue, pvalue, stderr) = linregress(x_values, y_values)\n",
    "regress_values = x_values * slope + intercept\n",
    "line_eq = \"y = \" + str(round(slope,2)) + \"x + \" + str(round(intercept,2))\n",
    "plt.scatter(x_values,y_values)\n",
    "plt.plot(x_values,regress_values,\"r-\")\n",
    "plt.annotate(line_eq,(10, 27),fontsize=10,color=\"red\")\n",
    "plt.title('Northern Hemisphere Wind Speed vs. Temperature Plot (06/12/21)')\n",
    "plt.xlabel('Latitude')\n",
    "plt.ylabel('Wind Speed (mph)')\n",
    "print(f\"The r-squared is: {rvalue**2}\")\n",
    "plt.show()\n",
    "#there is no apparent correlation between latitude and wind speed in the northern hemisphere"
   ]
  },
  {
   "cell_type": "markdown",
   "metadata": {},
   "source": [
    "####  Southern Hemisphere - Wind Speed (mph) vs. Latitude Linear Regression"
   ]
  },
  {
   "cell_type": "code",
   "execution_count": 31,
   "metadata": {},
   "outputs": [
    {
     "name": "stdout",
     "output_type": "stream",
     "text": [
      "The r-squared is: 0.0075735824217336885\n"
     ]
    },
    {
     "data": {
      "image/png": "[encoded data removed]",
      "text/plain": [
       "<Figure size 432x288 with 1 Axes>"
      ]
     },
     "metadata": {
      "needs_background": "light"
     },
     "output_type": "display_data"
    }
   ],
   "source": [
    "# Create a Scatter Plot for Wind Speed vs latitude for southern hemisphere\n",
    "x_values = SouthernHemisphere['Lat']\n",
    "y_values = SouthernHemisphere['Wind Speed']\n",
    "(slope, intercept, rvalue, pvalue, stderr) = linregress(x_values, y_values)\n",
    "regress_values = x_values * slope + intercept\n",
    "line_eq = \"y = \" + str(round(slope,2)) + \"x + \" + str(round(intercept,2))\n",
    "plt.scatter(x_values,y_values)\n",
    "plt.plot(x_values,regress_values,\"r-\")\n",
    "plt.annotate(line_eq,(-50, 24),fontsize=10,color=\"red\")\n",
    "plt.title('Southern Hemisphere Wind Speed vs. Temperature Plot (06/12/21)')\n",
    "plt.xlabel('Latitude')\n",
    "plt.ylabel('Wind Speed (mph)')\n",
    "print(f\"The r-squared is: {rvalue**2}\")\n",
    "plt.show()\n",
    "#there is no apparent correlation between latitude and wind speed in the southern hemisphere"
   ]
  },
  {
   "cell_type": "code",
   "execution_count": null,
   "metadata": {},
   "outputs": [],
   "source": []
  }
 ],
 "metadata": {
  "anaconda-cloud": {},
  "kernel_info": {
   "name": "python3"
  },
  "kernelspec": {
   "display_name": "Python 3",
   "language": "python",
   "name": "python3"
  },
  "language_info": {
   "codemirror_mode": {
    "name": "ipython",
    "version": 3
   },
   "file_extension": ".py",
   "mimetype": "text/x-python",
   "name": "python",
   "nbconvert_exporter": "python",
   "pygments_lexer": "ipython3",
   "version": "3.8.5"
  },
  "latex_envs": {
   "LaTeX_envs_menu_present": true,
   "autoclose": false,
   "autocomplete": true,
   "bibliofile": "biblio.bib",
   "cite_by": "apalike",
   "current_citInitial": 1,
   "eqLabelWithNumbers": true,
   "eqNumInitial": 1,
   "hotkeys": {
    "equation": "Ctrl-E",
    "itemize": "Ctrl-I"
   },
   "labels_anchors": false,
   "latex_user_defs": false,
   "report_style_numbering": false,
   "user_envs_cfg": false
  },
  "nteract": {
   "version": "0.12.3"
  }
 },
 "nbformat": 4,
 "nbformat_minor": 2
}
